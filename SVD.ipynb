{
 "cells": [
  {
   "cell_type": "markdown",
   "metadata": {},
   "source": [
    "### SVD approach of Recommender system\n",
    "\n",
    "* Considering a host-resource matrix $M_{ij}$ (or the user-rating matrix in the context of usual recommender system) with the matrix element being the #DL.\n",
    "\n",
    "*  In the simplest SVD-based recommender system, we SVD-decompose\n",
    "\\begin{align}\n",
    "M_{ij} = \\sum_k U_{ik}D_{kk}V^T_{kj},\n",
    "\\end{align}\n",
    "which represents the user preference, the \"rating\", of user-$i$ on the data-$j$.\n",
    "\n",
    "* As $M$ is highly sparse, the practical solution of $M$ is to solve the optimization problem\n",
    "\\begin{equation}\n",
    "min_{H_i, R_j} \\sum_{p_{ij}\\neq 0} (M_{ij}-H_i\\cdot R_j)^2,\n",
    "\\end{equation}\n",
    "Here, $H_i$ and $R_j$ reflect feature vector of host-$i$ and item-$j$.\n",
    " \n",
    "* Use the iterative FunkSVD method based on https://github.com/gbolmier/funk-svd.\n",
    "\n",
    "* TODO: Solve the minimize problem via neuron network....\n"
   ]
  },
  {
   "cell_type": "code",
   "execution_count": 1,
   "metadata": {},
   "outputs": [],
   "source": [
    "#!/usr/bin/python\n",
    "import os\n",
    "import csv\n",
    "import numpy as np\n",
    "import matplotlib.pyplot as plt\n",
    "import scipy.sparse\n",
    "from collections import Counter\n",
    "%matplotlib inline\n",
    "\n",
    "MAT_FILE = 'hr_mat.dat'\n",
    "\n",
    "def load_hr_mat(fname): \n",
    "    \"\"\"\n",
    "    Load \"Host-Resource-#DL table to build the sparse matrix\"\n",
    "    \"\"\"\n",
    "    #data = np.genfromtxt(fname, delimiter=\",\")\n",
    "    data = np.loadtxt(open(fname, \"r\"), delimiter=\",\", skiprows=0, dtype=int)\n",
    "    return data\n",
    "\n",
    "def build_sparse_mat(d):\n",
    "    \"\"\"\n",
    "    Assume all index >= 0\n",
    "    \"\"\"\n",
    "    hid = d[:,0]\n",
    "    rid = d[:,1]\n",
    "    dd  = d[:,2]\n",
    "    smat = scipy.sparse.csr_matrix( ( dd.astype(float), (hid.astype(int), rid.astype(int))) )\n",
    "    print (\"Data shape: \", d.shape, smat.shape)\n",
    "    print(\"Max/Min host: \", np.min(hid), np.max(hid) )\n",
    "    print(\"Max/Min item: \", np.min(rid), np.max(rid) )          \n",
    "    print(\"Max/Min data: \", np.min(dd), np.max(dd) )\n",
    "    return smat\n",
    "\n",
    "def svd(train, k):\n",
    "    utilMat = np.array(train)\n",
    "    # the nan or unavailable entries are masked\n",
    "    mask = np.isnan(utilMat)\n",
    "    masked_arr = np.ma.masked_array(utilMat, mask)\n",
    "    item_means = np.mean(masked_arr, axis=0)\n",
    "    # nan entries will replaced by the average rating for each item\n",
    "    utilMat = masked_arr.filled(item_means)\n",
    "    x = np.tile(item_means, (utilMat.shape[0],1))\n",
    "    # we remove the per item average from all entries.\n",
    "    # the above mentioned nan entries will be essentially zero now\n",
    "    utilMat = utilMat - x\n",
    "    # The magic happens here. U and V are user and item features\n",
    "    U, s, V=np.linalg.svd(utilMat, full_matrices=False)\n",
    "    s=np.diag(s)\n",
    "    # we take only the k most significant features\n",
    "    s=s[0:k,0:k]\n",
    "    U=U[:,0:k]\n",
    "    V=V[0:k,:]\n",
    "    UsV = np.dot(np.dot(U,s), V)\n",
    "    UsV = UsV + x\n",
    "    print(\"svd done\")\n",
    "    return UsV"
   ]
  },
  {
   "cell_type": "code",
   "execution_count": 2,
   "metadata": {},
   "outputs": [
    {
     "name": "stdout",
     "output_type": "stream",
     "text": [
      "Data shape:  (4146, 3) (3459, 722)\n",
      "Max/Min host:  0 3458\n",
      "Max/Min item:  0 721\n",
      "Max/Min data:  1 546\n",
      "Avg #DL over all item:  4.6685962373371925\n",
      "Max DL:  546.0\n"
     ]
    }
   ],
   "source": [
    "#### start SVD\n",
    " \n",
    "import  scipy.sparse.linalg\n",
    "data = load_hr_mat(MAT_FILE)\n",
    "smat = build_sparse_mat(data)\n",
    "\n",
    "\n",
    "global_average = smat.sum()/smat.count_nonzero()\n",
    "print (\"Avg #DL over all item: \", global_average)\n",
    "\n",
    "\n",
    "# Simple SVD approach for recommendation\n",
    "U, sigma, Vt = scipy.sparse.linalg.svds(smat, k = 128)\n",
    "smat1 = U.dot(np.diag(sigma)).dot(Vt)\n",
    "\n",
    "max_dl = smat.max()\n",
    "print(\"Max DL: \", max_dl)"
   ]
  },
  {
   "cell_type": "code",
   "execution_count": 3,
   "metadata": {},
   "outputs": [
    {
     "name": "stdout",
     "output_type": "stream",
     "text": [
      "Preprocessing data...\n",
      "\n",
      "Epoch 1/1000\n",
      "Epoch 101/1000\n",
      "Epoch 201/1000\n",
      "Epoch 301/1000\n",
      "Epoch 401/1000\n",
      "Epoch 501/1000\n",
      "Epoch 601/1000\n",
      "Epoch 701/1000\n",
      "Epoch 801/1000\n",
      "Epoch 901/1000\n"
     ]
    },
    {
     "data": {
      "text/plain": [
       "<funk_svd.svd.SVD at 0x8701d08>"
      ]
     },
     "execution_count": 3,
     "metadata": {},
     "output_type": "execute_result"
    }
   ],
   "source": [
    "from funk_svd.svd import SVD\n",
    "\n",
    "svd = SVD(learning_rate=0.001, regularization=0.005, n_epochs=1000, n_factors=15, min_rating=1, max_rating=max_dl)\n",
    "svd.fit(X=data, shuffle=True)"
   ]
  },
  {
   "cell_type": "code",
   "execution_count": 5,
   "metadata": {},
   "outputs": [
    {
     "name": "stdout",
     "output_type": "stream",
     "text": [
      "30 \t 29.961953021278504\n",
      "1 \t 1.0294584912473914\n",
      "4 \t 3.9959279450279652\n",
      "1 \t 1.0361580777980839\n",
      "1 \t 1.0124776420353305\n",
      "1 \t 1.0132412270572957\n",
      "27 \t 26.977620245407586\n",
      "2 \t 2.0033780241359573\n",
      "1 \t 1.0321331873872026\n",
      "1 \t 1.0291950203018034\n"
     ]
    }
   ],
   "source": [
    "### Good fitting\n",
    "for d in data[0:10,:]:\n",
    "    print( d[2], '\\t', svd.predict_pair(d[0], d[1]) )"
   ]
  },
  {
   "cell_type": "code",
   "execution_count": 10,
   "metadata": {},
   "outputs": [
    {
     "name": "stdout",
     "output_type": "stream",
     "text": [
      "6.792553944988244\n"
     ]
    }
   ],
   "source": [
    "### For a new user,  some new nser\n",
    "print(svd.predict_pair(1132111, d[2]) )"
   ]
  },
  {
   "cell_type": "code",
   "execution_count": null,
   "metadata": {},
   "outputs": [],
   "source": []
  }
 ],
 "metadata": {
  "kernelspec": {
   "display_name": "Python 3",
   "language": "python",
   "name": "python3"
  },
  "language_info": {
   "codemirror_mode": {
    "name": "ipython",
    "version": 3
   },
   "file_extension": ".py",
   "mimetype": "text/x-python",
   "name": "python",
   "nbconvert_exporter": "python",
   "pygments_lexer": "ipython3",
   "version": "3.7.4"
  }
 },
 "nbformat": 4,
 "nbformat_minor": 2
}
