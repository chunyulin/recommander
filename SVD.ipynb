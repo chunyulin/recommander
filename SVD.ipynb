{
 "cells": [
  {
   "cell_type": "markdown",
   "metadata": {},
   "source": [
    "### SVD approach of Recommender system\n",
    "\n",
    "* Considering a host(user)-resource matrix $M_{ij}$ with the matrix element being the #DL. The simplest recommender system is the SVD. \n",
    "\n",
    "* In this example, I first prepare the table for the host(user) and resource(data), then SVD the highly sparse matrix\n",
    "\\begin{align}\n",
    "M_{ij} = \\sum_k H_{ik}D_{kk}R_{kj},\n",
    "\\end{align}\n",
    "and infer the user preference from the $H_ik$, which means the \"rating\" of user-$i$ on the data-$k$.\n",
    "\n",
    "* More data is needed for a higher quality of recommenation. \n",
    "\n",
    "* TODO: Recommender system based-on neuron network....\n"
   ]
  },
  {
   "cell_type": "code",
   "execution_count": 13,
   "metadata": {},
   "outputs": [
    {
     "name": "stdout",
     "output_type": "stream",
     "text": [
      "Sparsity: 0.999669\n"
     ]
    },
    {
     "data": {
      "image/png": "[encoded data removed]",
      "text/plain": [
       "<Figure size 432x288 with 1 Axes>"
      ]
     },
     "metadata": {
      "needs_background": "light"
     },
     "output_type": "display_data"
    },
    {
     "data": {
      "image/png": "[encoded data removed]",
      "text/plain": [
       "<Figure size 432x288 with 1 Axes>"
      ]
     },
     "metadata": {
      "needs_background": "light"
     },
     "output_type": "display_data"
    }
   ],
   "source": [
    "#!/usr/bin/python\n",
    "import os\n",
    "import csv\n",
    "import numpy as np\n",
    "import matplotlib.pyplot as plt\n",
    "import scipy.sparse\n",
    "from collections import Counter\n",
    "\n",
    "F_HR_MAT = \"hr_mat.dat\"\n",
    "def load_hr_mat(): \n",
    "    \"\"\"\n",
    "    Load \"Host-Resource-#DL table to build the sparse matrix\"\n",
    "    \"\"\"\n",
    "    return np.loadtxt(open(F_HR_MAT, \"r\"), delimiter=\",\", skiprows=0, dtype=int)\n",
    "\n",
    "\n",
    "def build_sparse_mat(d):\n",
    "    rid = d[:,1]-1   ## make rid start from 0\n",
    "    smat = scipy.sparse.csr_matrix( ( d[:,2].astype(float), (d[:,0].astype(int), rid.astype(int))) )\n",
    "    print (\"Data shape: \", d.shape, smat.shape)\n",
    "    print(\"Max/Min host: \", np.min(data[:,0]), np.max(data[:,0]) )\n",
    "    print(\"Max/Min item: \", np.min(rid), np.max(rid) )          \n",
    "    print(\"Max/Min data: \", np.min(data[:,2]), np.max(data[:,2]) )\n",
    "    return smat\n",
    "\n",
    "def eda():\n",
    "    \"\"\"\n",
    "    A glance of data\n",
    "    \"\"\"\n",
    "    data = load_hr_mat()\n",
    "    print(\"Sparsity: %.6f\" % (1 - len(data)/(np.max(data[:,0])*np.max(data[:,1]))     ) )\n",
    "    plt.figure()\n",
    "    plt.hist(data[:,0], bins=256)\n",
    "    top = Counter(data[:,0]).most_common(1)\n",
    "    plt.title(\"Histogram of # DL by each user - Top hid: %d\" % top[0][0])\n",
    "    plt.figure()\n",
    "    plt.hist(data[:,1], bins=256)\n",
    "    top = Counter(data[:,1]).most_common(1)\n",
    "    plt.title(\"Histogram of # DL for each resource - Top rid: %d\" % top[0][0])\n",
    "    plt.show()\n",
    "    \n",
    "def svd(train, k):\n",
    "    utilMat = np.array(train)\n",
    "    # the nan or unavailable entries are masked\n",
    "    mask = np.isnan(utilMat)\n",
    "    masked_arr = np.ma.masked_array(utilMat, mask)\n",
    "    item_means = np.mean(masked_arr, axis=0)\n",
    "    # nan entries will replaced by the average rating for each item\n",
    "    utilMat = masked_arr.filled(item_means)\n",
    "    x = np.tile(item_means, (utilMat.shape[0],1))\n",
    "    # we remove the per item average from all entries.\n",
    "    # the above mentioned nan entries will be essentially zero now\n",
    "    utilMat = utilMat - x\n",
    "    # The magic happens here. U and V are user and item features\n",
    "    U, s, V=np.linalg.svd(utilMat, full_matrices=False)\n",
    "    s=np.diag(s)\n",
    "    # we take only the k most significant features\n",
    "    s=s[0:k,0:k]\n",
    "    U=U[:,0:k]\n",
    "    V=V[0:k,:]\n",
    "    UsV = np.dot(np.dot(U,s), V)\n",
    "    UsV = UsV + x\n",
    "    print(\"svd done\")\n",
    "    return UsV\n",
    "\n",
    "eda()\n"
   ]
  },
  {
   "cell_type": "code",
   "execution_count": 16,
   "metadata": {},
   "outputs": [
    {
     "name": "stdout",
     "output_type": "stream",
     "text": [
      "Data shape:  (4954, 3) (3945, 3796)\n",
      "Max/Min host:  0 3944\n",
      "Max/Min item:  0 3795\n",
      "Max/Min data:  1 1\n",
      "Avg #DL over all item:  1.0\n"
     ]
    }
   ],
   "source": [
    "import  scipy.sparse.linalg\n",
    "\n",
    "data = load_hr_mat()\n",
    "smat = build_sparse_mat(data)\n",
    "\n",
    "\n",
    "###########################3\n",
    "global_average = smat.sum()/smat.count_nonzero()\n",
    "print (\"Avg #DL over all item: \", global_average)\n",
    "\n",
    "# Simple SVD approach for recommendation\n",
    "U, sigma, Vt = scipy.sparse.linalg.svds(smat, k = 128)\n",
    "smat1 = U.dot(np.diag(sigma)).dot(Vt)"
   ]
  },
  {
   "cell_type": "code",
   "execution_count": 26,
   "metadata": {},
   "outputs": [
    {
     "name": "stdout",
     "output_type": "stream",
     "text": [
      "1.0\n",
      "203\n",
      "[ 203 2926 3234  967 3387 1058 2607 1317 1474 2564]\n"
     ]
    }
   ],
   "source": [
    "##  Top-10 for a given Host-ID\n",
    "idx=150\n",
    "print(smat.todense()[idx,:].sum())\n",
    "print(smat.todense()[idx,:].argmax())\n",
    "print(np.argsort(smat1[idx,:])[::-1][:10] )\n",
    "\n",
    "### For IDX higher than the min-k, the result is really. This may due to the insufficienct data for a minial SVD."
   ]
  },
  {
   "cell_type": "code",
   "execution_count": 6,
   "metadata": {},
   "outputs": [
    {
     "name": "stdout",
     "output_type": "stream",
     "text": [
      "[[1.  0.  0. ]\n",
      " [0.  1.  0. ]\n",
      " [0.  0.  1.9]]\n",
      "[[ 1.82135778e-01  3.85956392e-01 -1.43687061e-16]\n",
      " [ 3.85956392e-01  8.17864222e-01 -4.29933716e-18]\n",
      " [-7.56247688e-17 -2.26280903e-18  1.90000000e+00]]\n"
     ]
    }
   ],
   "source": [
    "#############\n",
    "def test():\n",
    "    row = np.array([0, 1, 2])\n",
    "    col = np.array([0, 1, 2])\n",
    "    data = np.array([1., 1., 1.9])\n",
    "    A = scipy.sparse.csr_matrix((data, (row, col)) )\n",
    "    print(A.todense())\n",
    "    U, D, V = scipy.sparse.linalg.svds(A, k = 2)\n",
    "    print(U.dot(np.diag(D).dot(V)))\n",
    "##############\n",
    "\n",
    "test()\n"
   ]
  },
  {
   "cell_type": "code",
   "execution_count": null,
   "metadata": {},
   "outputs": [],
   "source": []
  }
 ],
 "metadata": {
  "kernelspec": {
   "display_name": "Python 3",
   "language": "python",
   "name": "python3"
  },
  "language_info": {
   "codemirror_mode": {
    "name": "ipython",
    "version": 3
   },
   "file_extension": ".py",
   "mimetype": "text/x-python",
   "name": "python",
   "nbconvert_exporter": "python",
   "pygments_lexer": "ipython3",
   "version": "3.7.4"
  }
 },
 "nbformat": 4,
 "nbformat_minor": 2
}
