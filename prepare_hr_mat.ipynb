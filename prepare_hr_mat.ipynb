{
 "cells": [
  {
   "cell_type": "code",
   "execution_count": 31,
   "metadata": {},
   "outputs": [
    {
     "name": "stdout",
     "output_type": "stream",
     "text": [
      "Host-Item table written done.\n"
     ]
    }
   ],
   "source": [
    "#!/usr/bin/python\n",
    "import os\n",
    "import csv\n",
    "import numpy as np\n",
    "import matplotlib.pyplot as plt\n",
    "from collections import Counter\n",
    "\n",
    "### Require:\n",
    "### 1) Only need -- IP_ID, Resource_ID, Timestamp(can be in binary for speed/space)\n",
    "### 2) We may need a permanent ID table for IP, resource\n",
    "\n",
    "def build_id_tbl(fname, col=0):\n",
    "    ### build id table from given col in a CSV file\n",
    "    data = Counter()\n",
    "    with open(fname, mode='r') as infile:\n",
    "        reader = csv.reader(infile, delimiter=',')\n",
    "        next(reader)\n",
    "        for rows in reader:\n",
    "            data[rows[col]] += 1\n",
    "    \n",
    "    ### build table\n",
    "    i = 0\n",
    "    data_tbl = {}   ## use normal dict here, 'cause counter cannot start from 0\n",
    "    for key in data.keys():\n",
    "        data_tbl.update({key:i})\n",
    "        i += 1\n",
    "\n",
    "    return data_tbl\n",
    "  \n",
    "def build_hr_mat(fname, host, item): \n",
    "    \"\"\"\n",
    "    Return (hid, rid, # d/l)\n",
    "    Build host ID table from D/L list -- need to remove duplicate IP\n",
    "    \"\"\"\n",
    "    hrmat = Counter()\n",
    "    with open(fname, mode='r') as infile:\n",
    "        reader = csv.reader(infile, delimiter=',')\n",
    "        next(reader)\n",
    "        for rows in reader:\n",
    "            hrmat[(host[rows[0]], item[rows[2]])] +=1    ## hid, rid, # d/l\n",
    "\n",
    "    return (hrmat) \n",
    "\n",
    "def load_hr_mat(fname): \n",
    "    \"\"\"\n",
    "    Load \"Host-Resource-#DL table to build the sparse matrix\"\n",
    "    \"\"\"\n",
    "    #data = np.genfromtxt(fname, delimiter=\",\")\n",
    "    data = np.loadtxt(open(fname, \"r\"), delimiter=\",\", skiprows=0, dtype=int)\n",
    "    return data\n",
    "\n",
    "\n",
    "\n",
    "F_HR = \"host_time_dataset_2020-03-24.csv\"   # host,time,item\n",
    "MAT_FILE = 'hr_mat.dat'\n",
    "  \n",
    "    \n",
    "#### Main program    \n",
    "host_tbl = build_id_tbl(F_HR, 0)\n",
    "item_tbl = build_id_tbl(F_HR, 2)\n",
    "hr_mat   = build_hr_mat(F_HR, host_tbl, item_tbl) \n",
    "\n",
    "# written in sparse matrix\n",
    "I = [i[0] for i in hr_mat.keys()]\n",
    "J = [i[1] for i in hr_mat.keys()]\n",
    "D = [i    for i in hr_mat.values()]\n",
    "\n",
    "with open(MAT_FILE, 'w') as f:\n",
    "    for i in range(len(I)):\n",
    "        f.write(\"%d,%d,%d\\n\" % (I[i],J[i],D[i] ) )       \n",
    "print (\"Host-Item table written done.\")\n",
    "\n"
   ]
  },
  {
   "cell_type": "code",
   "execution_count": 32,
   "metadata": {},
   "outputs": [
    {
     "name": "stdout",
     "output_type": "stream",
     "text": [
      "[[ 0  0  1]\n",
      " [ 1  1 14]\n",
      " [ 2  2  1]\n",
      " [ 3  3  1]\n",
      " [ 4  4  1]\n",
      " [ 5  5  1]\n",
      " [ 6  3  6]\n",
      " [ 7  6 15]\n",
      " [ 5  7  1]\n",
      " [ 8  8  1]]\n"
     ]
    }
   ],
   "source": [
    "### It is what the data look likes....\n",
    "\n",
    "data = load_hr_mat(MAT_FILE)\n",
    "print(data[0:10,:])"
   ]
  },
  {
   "cell_type": "code",
   "execution_count": 44,
   "metadata": {},
   "outputs": [
    {
     "name": "stdout",
     "output_type": "stream",
     "text": [
      "Sparsity: 0.998337\n",
      "=== top-10 resource ===\n",
      "cifar-10 \t 1003\n",
      "sn_48-2019 \t 62\n",
      "sn_71-2019 \t 52\n",
      "sn_72-2019 \t 43\n",
      "sn_28-2019 \t 42\n",
      "sn_65-2019 \t 41\n",
      "sn_57-2019 \t 36\n",
      "sn_58-2019 \t 36\n",
      "sn_85-2019 \t 36\n",
      "sn_69-2019 \t 35\n",
      "=== top-10 host ===\n",
      "151.80.39.47 \t 89\n",
      "5.196.87.151 \t 85\n",
      "5.45.207.63 \t 21\n",
      "157.55.39.12 \t 14\n",
      "114.119.160.32 \t 13\n",
      "114.119.162.214 \t 13\n",
      "114.119.165.118 \t 10\n",
      "114.119.163.208 \t 10\n",
      "114.119.163.45 \t 9\n",
      "114.119.161.142 \t 9\n"
     ]
    },
    {
     "data": {
      "image/png": "[encoded data removed]",
      "text/plain": [
       "<Figure size 432x288 with 1 Axes>"
      ]
     },
     "metadata": {
      "needs_background": "light"
     },
     "output_type": "display_data"
    },
    {
     "data": {
      "image/png": "[encoded data removed]",
      "text/plain": [
       "<Figure size 432x288 with 1 Axes>"
      ]
     },
     "metadata": {
      "needs_background": "light"
     },
     "output_type": "display_data"
    }
   ],
   "source": [
    "### The table and its inverse may be accessed from a databased.\n",
    "inv_item_tbl = {v: k for k, v in item_tbl.items()}\n",
    "inv_host_tbl = {v: k for k, v in host_tbl.items()}\n",
    "\n",
    "def eda(data):\n",
    "    \"\"\"\n",
    "    A glance of data of {host, resource, count}\n",
    "    \"\"\"\n",
    "    print(\"Sparsity: %.6f\" % (1 - len(data)/(np.max(data[:,0])*np.max(data[:,1]))     ) )\n",
    "    plt.figure()\n",
    "    plt.hist(data[:,0], bins=256)\n",
    "    \n",
    "    ### Top-10 resource\n",
    "    top = Counter(data[:,1]).most_common(10)\n",
    "    print(\"=== top-10 resource ===\")\n",
    "    for item in top:\n",
    "        print(inv_item_tbl[item[0]], '\\t', item[1])\n",
    "\n",
    "    ### Top-10 host\n",
    "    print(\"=== top-10 host ===\")\n",
    "    top = Counter(data[:,0]).most_common(10)\n",
    "    for item in top:\n",
    "        print(inv_host_tbl[item[0]], '\\t', item[1])\n",
    "\n",
    "    \n",
    "    ###\n",
    "    top = Counter(data[:,0]).most_common(1)\n",
    "    plt.title(\"Histogram of # DL by each user - Top hid: %d\" % top[0][0])\n",
    "    plt.figure()\n",
    "    plt.hist(data[:,1], bins=256)\n",
    "    top = Counter(data[:,1]).most_common(1)\n",
    "    plt.title(\"Histogram of # DL for each resource - Top rid: %d\" % top[0][0])\n",
    "    plt.show()\n",
    "    \n",
    "    \n",
    "eda(data)\n"
   ]
  }
 ],
 "metadata": {
  "kernelspec": {
   "display_name": "Python 3",
   "language": "python",
   "name": "python3"
  },
  "language_info": {
   "codemirror_mode": {
    "name": "ipython",
    "version": 3
   },
   "file_extension": ".py",
   "mimetype": "text/x-python",
   "name": "python",
   "nbconvert_exporter": "python",
   "pygments_lexer": "ipython3",
   "version": "3.7.4"
  }
 },
 "nbformat": 4,
 "nbformat_minor": 2
}
